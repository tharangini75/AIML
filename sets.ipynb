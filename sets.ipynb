{
 "cells": [
  {
   "cell_type": "code",
   "execution_count": 1,
   "id": "675c7a6d-089d-4ff2-bdaf-c3e32ddd33b9",
   "metadata": {},
   "outputs": [],
   "source": [
    "lst1=[1,8,9,0,1,7,4]"
   ]
  },
  {
   "cell_type": "code",
   "execution_count": 3,
   "id": "576b5569-f01f-43f4-97d3-e4c34ad5b86f",
   "metadata": {},
   "outputs": [
    {
     "name": "stdout",
     "output_type": "stream",
     "text": [
      "{0, 1, 4, 7, 8, 9}\n",
      "<class 'set'>\n"
     ]
    }
   ],
   "source": [
    "s2=set(lst1)\n",
    "print(s2)\n",
    "print(type(s2))"
   ]
  },
  {
   "cell_type": "code",
   "execution_count": 5,
   "id": "f5ef4655-afbb-4d0c-9bab-a807b20be6f8",
   "metadata": {},
   "outputs": [
    {
     "data": {
      "text/plain": [
       "['__and__',\n",
       " '__class__',\n",
       " '__class_getitem__',\n",
       " '__contains__',\n",
       " '__delattr__',\n",
       " '__dir__',\n",
       " '__doc__',\n",
       " '__eq__',\n",
       " '__format__',\n",
       " '__ge__',\n",
       " '__getattribute__',\n",
       " '__getstate__',\n",
       " '__gt__',\n",
       " '__hash__',\n",
       " '__iand__',\n",
       " '__init__',\n",
       " '__init_subclass__',\n",
       " '__ior__',\n",
       " '__isub__',\n",
       " '__iter__',\n",
       " '__ixor__',\n",
       " '__le__',\n",
       " '__len__',\n",
       " '__lt__',\n",
       " '__ne__',\n",
       " '__new__',\n",
       " '__or__',\n",
       " '__rand__',\n",
       " '__reduce__',\n",
       " '__reduce_ex__',\n",
       " '__repr__',\n",
       " '__ror__',\n",
       " '__rsub__',\n",
       " '__rxor__',\n",
       " '__setattr__',\n",
       " '__sizeof__',\n",
       " '__str__',\n",
       " '__sub__',\n",
       " '__subclasshook__',\n",
       " '__xor__',\n",
       " 'add',\n",
       " 'clear',\n",
       " 'copy',\n",
       " 'difference',\n",
       " 'difference_update',\n",
       " 'discard',\n",
       " 'intersection',\n",
       " 'intersection_update',\n",
       " 'isdisjoint',\n",
       " 'issubset',\n",
       " 'issuperset',\n",
       " 'pop',\n",
       " 'remove',\n",
       " 'symmetric_difference',\n",
       " 'symmetric_difference_update',\n",
       " 'union',\n",
       " 'update']"
      ]
     },
     "execution_count": 5,
     "metadata": {},
     "output_type": "execute_result"
    }
   ],
   "source": [
    "dir(set)"
   ]
  },
  {
   "cell_type": "code",
   "execution_count": 11,
   "id": "934edeef-9854-44f0-9c49-26b5c4954486",
   "metadata": {},
   "outputs": [],
   "source": [
    "#union operation\n",
    "s1={1,2,3,4}\n",
    "s2={9,7,5,6}"
   ]
  },
  {
   "cell_type": "code",
   "execution_count": 13,
   "id": "56fe289e-4a7b-44c3-b0b4-24bfe22c718b",
   "metadata": {},
   "outputs": [
    {
     "data": {
      "text/plain": [
       "{1, 2, 3, 4, 5, 6, 7, 9}"
      ]
     },
     "execution_count": 13,
     "metadata": {},
     "output_type": "execute_result"
    }
   ],
   "source": [
    "s1|s2"
   ]
  },
  {
   "cell_type": "code",
   "execution_count": null,
   "id": "39f61bf6-8cec-4bfc-9eb4-37e666dde60e",
   "metadata": {},
   "outputs": [],
   "source": [
    "s1={1,2,3,5,4}\n",
    "s2={9,8,7,6}"
   ]
  },
  {
   "cell_type": "code",
   "execution_count": 27,
   "id": "126df388-f684-4d7c-8d39-01c27199d688",
   "metadata": {},
   "outputs": [
    {
     "data": {
      "text/plain": [
       "{3, 4}"
      ]
     },
     "execution_count": 27,
     "metadata": {},
     "output_type": "execute_result"
    }
   ],
   "source": [
    "s1.intersection(s2)"
   ]
  },
  {
   "cell_type": "code",
   "execution_count": 29,
   "id": "435510d9-8f3f-49c3-9d50-b6ab7c30f7a7",
   "metadata": {},
   "outputs": [
    {
     "data": {
      "text/plain": [
       "{1, 2}"
      ]
     },
     "execution_count": 29,
     "metadata": {},
     "output_type": "execute_result"
    }
   ],
   "source": [
    "s1-s2"
   ]
  },
  {
   "cell_type": "markdown",
   "id": "67415869-23b8-454b-a410-7f5c837eb23f",
   "metadata": {},
   "source": [
    "s2-s1"
   ]
  },
  {
   "cell_type": "code",
   "execution_count": 35,
   "id": "9fbc7cd9-1943-456b-83ed-9327c98c7281",
   "metadata": {},
   "outputs": [
    {
     "data": {
      "text/plain": [
       "{1, 2, 3, 4, 5, 6, 7, 8, 9}"
      ]
     },
     "execution_count": 35,
     "metadata": {},
     "output_type": "execute_result"
    }
   ],
   "source": [
    "s1={1,2,3,5,4}\n",
    "s2={9,8,7,6}\n",
    "s1.symmetric_difference(s2)"
   ]
  },
  {
   "cell_type": "code",
   "execution_count": 37,
   "id": "8777a083-ad5f-4813-9afb-e729e3d6a1c2",
   "metadata": {},
   "outputs": [
    {
     "name": "stdout",
     "output_type": "stream",
     "text": [
      "welcome to aiml\n",
      "<class 'str'>\n",
      "we started with python\n",
      "<class 'str'>\n"
     ]
    }
   ],
   "source": [
    "#string\n",
    "str1=\"welcome to aiml\"\n",
    "print(str1)\n",
    "print(type(str1))\n",
    "str2=\"we started with python\"\n",
    "print(str2)\n",
    "print(type(str2))"
   ]
  },
  {
   "cell_type": "code",
   "execution_count": 45,
   "id": "fc9a4a58-ea87-4435-974d-2c996ba39e58",
   "metadata": {},
   "outputs": [
    {
     "name": "stdout",
     "output_type": "stream",
     "text": [
      "He said , \"It's awesome!\"\n"
     ]
    }
   ],
   "source": [
    "print('''He said , \"It's awesome!\"''')"
   ]
  },
  {
   "cell_type": "code",
   "execution_count": 49,
   "id": "29c9a40a-6d03-4e54-9a1e-0881fa24d8d5",
   "metadata": {},
   "outputs": [
    {
     "name": "stdout",
     "output_type": "stream",
     "text": [
      "welcome to aiml\n"
     ]
    },
    {
     "data": {
      "text/plain": [
       "'me to'"
      ]
     },
     "execution_count": 49,
     "metadata": {},
     "output_type": "execute_result"
    }
   ],
   "source": [
    "#slicing\n",
    "print(str1)\n",
    "str1[5:10]"
   ]
  },
  {
   "cell_type": "code",
   "execution_count": 53,
   "id": "29470cb9-1e9e-4d0e-9f2c-b3db64aa3caa",
   "metadata": {},
   "outputs": [
    {
     "data": {
      "text/plain": [
       "'lmia ot emoclew'"
      ]
     },
     "execution_count": 53,
     "metadata": {},
     "output_type": "execute_result"
    }
   ],
   "source": [
    "str1[::-1]"
   ]
  },
  {
   "cell_type": "code",
   "execution_count": 51,
   "id": "678ff963-940d-4900-8008-206b4b4a94a0",
   "metadata": {},
   "outputs": [
    {
     "data": {
      "text/plain": [
       "['__add__',\n",
       " '__class__',\n",
       " '__contains__',\n",
       " '__delattr__',\n",
       " '__dir__',\n",
       " '__doc__',\n",
       " '__eq__',\n",
       " '__format__',\n",
       " '__ge__',\n",
       " '__getattribute__',\n",
       " '__getitem__',\n",
       " '__getnewargs__',\n",
       " '__getstate__',\n",
       " '__gt__',\n",
       " '__hash__',\n",
       " '__init__',\n",
       " '__init_subclass__',\n",
       " '__iter__',\n",
       " '__le__',\n",
       " '__len__',\n",
       " '__lt__',\n",
       " '__mod__',\n",
       " '__mul__',\n",
       " '__ne__',\n",
       " '__new__',\n",
       " '__reduce__',\n",
       " '__reduce_ex__',\n",
       " '__repr__',\n",
       " '__rmod__',\n",
       " '__rmul__',\n",
       " '__setattr__',\n",
       " '__sizeof__',\n",
       " '__str__',\n",
       " '__subclasshook__',\n",
       " 'capitalize',\n",
       " 'casefold',\n",
       " 'center',\n",
       " 'count',\n",
       " 'encode',\n",
       " 'endswith',\n",
       " 'expandtabs',\n",
       " 'find',\n",
       " 'format',\n",
       " 'format_map',\n",
       " 'index',\n",
       " 'isalnum',\n",
       " 'isalpha',\n",
       " 'isascii',\n",
       " 'isdecimal',\n",
       " 'isdigit',\n",
       " 'isidentifier',\n",
       " 'islower',\n",
       " 'isnumeric',\n",
       " 'isprintable',\n",
       " 'isspace',\n",
       " 'istitle',\n",
       " 'isupper',\n",
       " 'join',\n",
       " 'ljust',\n",
       " 'lower',\n",
       " 'lstrip',\n",
       " 'maketrans',\n",
       " 'partition',\n",
       " 'removeprefix',\n",
       " 'removesuffix',\n",
       " 'replace',\n",
       " 'rfind',\n",
       " 'rindex',\n",
       " 'rjust',\n",
       " 'rpartition',\n",
       " 'rsplit',\n",
       " 'rstrip',\n",
       " 'split',\n",
       " 'splitlines',\n",
       " 'startswith',\n",
       " 'strip',\n",
       " 'swapcase',\n",
       " 'title',\n",
       " 'translate',\n",
       " 'upper',\n",
       " 'zfill']"
      ]
     },
     "execution_count": 51,
     "metadata": {},
     "output_type": "execute_result"
    }
   ],
   "source": [
    "dir(str)"
   ]
  },
  {
   "cell_type": "code",
   "execution_count": 55,
   "id": "597f11ee-28b1-4104-9b19-bc601cd0e3c1",
   "metadata": {},
   "outputs": [
    {
     "name": "stdout",
     "output_type": "stream",
     "text": [
      "welcome to aiml\n"
     ]
    },
    {
     "data": {
      "text/plain": [
       "['welcome', 'to', 'aiml']"
      ]
     },
     "execution_count": 55,
     "metadata": {},
     "output_type": "execute_result"
    }
   ],
   "source": [
    "#use of split\n",
    "print(str1)\n",
    "str1.split()"
   ]
  },
  {
   "cell_type": "code",
   "execution_count": 59,
   "id": "66ff8d41-de8b-42ee-b469-5970974c6444",
   "metadata": {},
   "outputs": [
    {
     "data": {
      "text/plain": [
       "'The product is awesome Great service'"
      ]
     },
     "execution_count": 59,
     "metadata": {},
     "output_type": "execute_result"
    }
   ],
   "source": [
    "#join method\n",
    "str4=[\"The product is awesome\",\"Great service\"]\n",
    "' '.join(str4)"
   ]
  },
  {
   "cell_type": "code",
   "execution_count": 63,
   "id": "34a9feda-9a23-4055-851a-459dd7eb0efb",
   "metadata": {},
   "outputs": [
    {
     "data": {
      "text/plain": [
       "'hello,how are you?'"
      ]
     },
     "execution_count": 63,
     "metadata": {},
     "output_type": "execute_result"
    }
   ],
   "source": [
    "#use of strip() method\n",
    "str5=\"    hello,how are you?       \"\n",
    "str5\n",
    "str5.strip()"
   ]
  },
  {
   "cell_type": "code",
   "execution_count": 65,
   "id": "ccb7fe23-6540-47d9-9f8c-83fb83eb17f1",
   "metadata": {},
   "outputs": [],
   "source": [
    "sales_data = {\n",
    "    \"ProductID\": [101, 102, 103, 104, 105, 106, 107, 108, 109, 110],\n",
    "    \"ProductName\": [\"Laptop\", \"Mouse\", \"Keyboard\", \"Monitor\", \"Chair\", \"Desk\", \"Webcam\", \"Headphones\", \"Printer\", \"Tablet\"],\n",
    "    \"Category\": [\"Electronics\", \"Accessories\", \"Accessories\", \"Electronics\", \"Furniture\", \"Furniture\", \"Electronics\", \"Accessories\", \"Electronics\", \"Electronics\"],\n",
    "    \"PriceRange\": [\"High\", \"Low\", \"Low\", \"Medium\", \"Medium\", \"Medium\", \"Low\", \"Low\", \"Medium\", \"High\"],\n",
    "    \"StockAvailable\": [15, 100, 75, 20, 10, 8, 50, 60, 25, 12],\n",
    "}"
   ]
  },
  {
   "cell_type": "code",
   "execution_count": 67,
   "id": "7ad0efb2-d235-452d-a3e5-f1cd3d49eda7",
   "metadata": {},
   "outputs": [
    {
     "name": "stdout",
     "output_type": "stream",
     "text": [
      "ProductID {101, 102, 103, 104, 105, 106, 107, 108, 109, 110},/n\n",
      "ProductName {'Printer', 'Keyboard', 'Webcam', 'Tablet', 'Monitor', 'Mouse', 'Desk', 'Laptop', 'Headphones', 'Chair'},/n\n",
      "Category {'Electronics', 'Accessories', 'Furniture'},/n\n",
      "PriceRange {'Low', 'High', 'Medium'},/n\n",
      "StockAvailable {100, 8, 10, 75, 12, 15, 50, 20, 25, 60},/n\n"
     ]
    }
   ],
   "source": [
    "for k,v in sales_data.items():\n",
    "    print(k,set(v), end =',')\n",
    "    print('/n')"
   ]
  },
  {
   "cell_type": "code",
   "execution_count": null,
   "id": "6739c179-1133-4c41-b3b8-31d71e8507e0",
   "metadata": {},
   "outputs": [],
   "source": [
    "reviews = {\n",
    "    \"Review1\": \"The product quality is excellent and delivery was prompt. The product functionality is versatile\",\n",
    "    \"Review2\": \"Good service but the packaging could have been better. The customer service has to improve\",\n",
    "    \"Review3\": \"The product works fine, but the customer support is not very helpful. I rate the product as excellent\",\n",
    "}\n"
   ]
  },
  {
   "cell_type": "code",
   "execution_count": 87,
   "id": "238e5880-d843-4cd1-9719-579ca2a24213",
   "metadata": {},
   "outputs": [
    {
     "data": {
      "text/plain": [
       "{'Review1': {'Wordcount': 14,\n",
       "  'uniqueWords': ['prompt.',\n",
       "   'is',\n",
       "   'was',\n",
       "   'and',\n",
       "   'the',\n",
       "   'delivery',\n",
       "   'quality',\n",
       "   'excellent',\n",
       "   'versatile',\n",
       "   'product',\n",
       "   'functionality']},\n",
       " 'Review2': {'Wordcount': 15,\n",
       "  'uniqueWords': ['have',\n",
       "   'packaging',\n",
       "   'been',\n",
       "   'customer',\n",
       "   'but',\n",
       "   'the',\n",
       "   'has',\n",
       "   'improve',\n",
       "   'to',\n",
       "   'service',\n",
       "   'could',\n",
       "   'good',\n",
       "   'better.']},\n",
       " 'Review3': {'Wordcount': 18,\n",
       "  'uniqueWords': ['support',\n",
       "   'is',\n",
       "   'as',\n",
       "   'fine',\n",
       "   'rate',\n",
       "   'but',\n",
       "   'the',\n",
       "   'works',\n",
       "   'excellent',\n",
       "   'product',\n",
       "   'helpful.',\n",
       "   'i',\n",
       "   'not',\n",
       "   'very',\n",
       "   'customer']}}"
      ]
     },
     "execution_count": 87,
     "metadata": {},
     "output_type": "execute_result"
    }
   ],
   "source": [
    "reviews = {\n",
    "    \"Review1\": \"The product quality is excellent and delivery was prompt. The product functionality is versatile\",\n",
    "    \"Review2\": \"Good service but the packaging could have been better. The customer service has to improve\",\n",
    "    \"Review3\": \"The product works fine, but the customer support is not very helpful. I rate the product as excellent\",\n",
    "}\n",
    "review_analysis = {}\n",
    "for key, review in reviews.items():\n",
    "    words=review.lower().replace(',',' ').replace(',','').split() \n",
    "    review_analysis[key]={\n",
    "        \"Wordcount\":len(words),\n",
    "        \"uniqueWords\":list(set(words))\n",
    "    }\n",
    "review_analysis"
   ]
  },
  {
   "cell_type": "code",
   "execution_count": null,
   "id": "05e42c16-1afb-4a0c-81a9-dcb72291fd4a",
   "metadata": {},
   "outputs": [],
   "source": []
  }
 ],
 "metadata": {
  "kernelspec": {
   "display_name": "Python [conda env:base] *",
   "language": "python",
   "name": "conda-base-py"
  },
  "language_info": {
   "codemirror_mode": {
    "name": "ipython",
    "version": 3
   },
   "file_extension": ".py",
   "mimetype": "text/x-python",
   "name": "python",
   "nbconvert_exporter": "python",
   "pygments_lexer": "ipython3",
   "version": "3.12.7"
  }
 },
 "nbformat": 4,
 "nbformat_minor": 5
}
