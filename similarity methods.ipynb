{
 "cells": [
  {
   "cell_type": "code",
   "execution_count": 3,
   "id": "91d3eca5-67ff-4cd6-96cb-625fc72e2604",
   "metadata": {},
   "outputs": [],
   "source": [
    "import numpy as np\n",
    "from scipy.spatial.distance import cosine,euclidean\n",
    "from scipy.stats import pearsonr"
   ]
  },
  {
   "cell_type": "code",
   "execution_count": 5,
   "id": "658e1f46-72f0-4294-b653-e21a748eda56",
   "metadata": {},
   "outputs": [],
   "source": [
    "# sample user rating data on a scale of 5\n",
    "user1 = np.array([4,5,2,3,4])\n",
    "user2 =np.array([5,3,2,4,5])"
   ]
  },
  {
   "cell_type": "code",
   "execution_count": 7,
   "id": "35d3cb2d-9b01-4aaa-8859-c3bad58c7e36",
   "metadata": {},
   "outputs": [
    {
     "name": "stdout",
     "output_type": "stream",
     "text": [
      "cosine similarity: 0.9548\n"
     ]
    }
   ],
   "source": [
    "# 1. cosine similarity; (1-cosine distance) gives similar\n",
    "cosine_similarity =  1 - cosine(user1, user2)\n",
    "print(f\"cosine similarity: {cosine_similarity:.4f}\")"
   ]
  },
  {
   "cell_type": "code",
   "execution_count": 19,
   "id": "d1fe8bb2-166f-4774-848e-7f660cbf219c",
   "metadata": {},
   "outputs": [
    {
     "name": "stdout",
     "output_type": "stream",
     "text": [
      "pearson correlation similarity: 0.4372\n"
     ]
    }
   ],
   "source": [
    "pearson_corr, _=pearsonr(user1,user2)\n",
    "print(f\"pearson correlation similarity: {pearson_corr:.4f}\")"
   ]
  },
  {
   "cell_type": "code",
   "execution_count": 11,
   "id": "e688b32d-272f-4150-9495-4b24c724a534",
   "metadata": {},
   "outputs": [
    {
     "name": "stdout",
     "output_type": "stream",
     "text": [
      "euclidean distance similarity: 0.2743\n"
     ]
    }
   ],
   "source": [
    "euclidean_distance = euclidean(user1, user2)\n",
    "euclidean_similarity = 1/(1+euclidean_distance)\n",
    "print(f\"euclidean distance similarity: {euclidean_similarity:.4f}\")"
   ]
  },
  {
   "cell_type": "code",
   "execution_count": 25,
   "id": "f81838ea-09ae-4617-841f-02c91336d8ec",
   "metadata": {},
   "outputs": [
    {
     "name": "stdout",
     "output_type": "stream",
     "text": [
      "         Bahubali  Mufasa  Interstellar  RRR  Mrs\n",
      "Raju            5       4             3    5    2\n",
      "John            4       5             2    4    3\n",
      "Ramya           3       2             5    4    4\n",
      "Kishore         5       3             4    4    2\n"
     ]
    }
   ],
   "source": [
    "import pandas as pd\n",
    "users = ['Raju', 'John', 'Ramya', 'Kishore']  \n",
    "ratings = [\n",
    "    [5, 4, 3, 5, 2],\n",
    "    [4, 5, 2, 4, 3],\n",
    "    [3, 2, 5, 4, 4],  \n",
    "    [5, 3, 4, 4, 2]   \n",
    "]\n",
    "\n",
    "df = pd.DataFrame(ratings, index=users, columns=['Bahubali', 'Mufasa', 'Interstellar', 'RRR', 'Mrs'])\n",
    "print(df)"
   ]
  },
  {
   "cell_type": "code",
   "execution_count": null,
   "id": "fc290c09-31b6-4ae4-8a80-6220e2a381e6",
   "metadata": {},
   "outputs": [],
   "source": []
  }
 ],
 "metadata": {
  "kernelspec": {
   "display_name": "Python [conda env:base] *",
   "language": "python",
   "name": "conda-base-py"
  },
  "language_info": {
   "codemirror_mode": {
    "name": "ipython",
    "version": 3
   },
   "file_extension": ".py",
   "mimetype": "text/x-python",
   "name": "python",
   "nbconvert_exporter": "python",
   "pygments_lexer": "ipython3",
   "version": "3.12.7"
  }
 },
 "nbformat": 4,
 "nbformat_minor": 5
}
