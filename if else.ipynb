{
 "cells": [
  {
   "cell_type": "code",
   "execution_count": 1,
   "id": "77573eb0-b4fa-4827-b7b6-57c85c7fbf75",
   "metadata": {},
   "outputs": [
    {
     "name": "stdout",
     "output_type": "stream",
     "text": [
      "even\n"
     ]
    }
   ],
   "source": [
    "num=6\n",
    "if num%2 ==0:\n",
    "    print(\"even\")\n",
    "else:\n",
    "    print(\"odd\")"
   ]
  },
  {
   "cell_type": "code",
   "execution_count": 9,
   "id": "655a724e-41bd-40f7-b5f4-f4bf46c2e04f",
   "metadata": {},
   "outputs": [
    {
     "name": "stdout",
     "output_type": "stream",
     "text": [
      "even\n"
     ]
    }
   ],
   "source": [
    "print(\"even\") if num%2==0 else print(\"odd\")"
   ]
  },
  {
   "cell_type": "code",
   "execution_count": 19,
   "id": "3de84a77-4502-4abc-8e7e-052fa9315199",
   "metadata": {},
   "outputs": [
    {
     "name": "stdout",
     "output_type": "stream",
     "text": [
      "positive\n"
     ]
    }
   ],
   "source": [
    "x=10\n",
    "result=\"positive\" if x >0 else \"negative\"\n",
    "print(result)"
   ]
  },
  {
   "cell_type": "code",
   "execution_count": 17,
   "id": "09fff5bf-3f6b-4de5-863f-8d166ce88c84",
   "metadata": {},
   "outputs": [
    {
     "name": "stdout",
     "output_type": "stream",
     "text": [
      "minor\n"
     ]
    }
   ],
   "source": [
    "age=18\n",
    "category=\"adult\" if age > 18 else \"minor\" \n",
    "print(category)"
   ]
  },
  {
   "cell_type": "code",
   "execution_count": 25,
   "id": "af5ad4c5-3f00-4892-a3b2-1519f89ee80f",
   "metadata": {},
   "outputs": [
    {
     "name": "stdout",
     "output_type": "stream",
     "text": [
      "positive\n"
     ]
    }
   ],
   "source": [
    "x=10\n",
    "result=\"positive\" if num > 0 else \"negative\" if num < 0 else \"zero\"\n",
    "print(result)"
   ]
  },
  {
   "cell_type": "code",
   "execution_count": 29,
   "id": "0c290ada-68b1-48a6-bb65-f96fd4d2162e",
   "metadata": {},
   "outputs": [
    {
     "data": {
      "text/plain": [
       "[2, 18, 4, 20, 112, 178]"
      ]
     },
     "execution_count": 29,
     "metadata": {},
     "output_type": "execute_result"
    }
   ],
   "source": [
    "#list comprehension\n",
    "l=[1,9,2,10,56,89]\n",
    "[2*x for x in l]"
   ]
  },
  {
   "cell_type": "code",
   "execution_count": 31,
   "id": "111163a6-c4bd-4bd8-a0a0-70817c163c6f",
   "metadata": {},
   "outputs": [
    {
     "data": {
      "text/plain": [
       "[2, 10, 56]"
      ]
     },
     "execution_count": 31,
     "metadata": {},
     "output_type": "execute_result"
    }
   ],
   "source": [
    "l=[1,9,2,10,56,89]\n",
    "[x for x in l if x%2 == 0]"
   ]
  },
  {
   "cell_type": "code",
   "execution_count": 35,
   "id": "601e4a09-fcce-492a-bedc-d33bfb6ae463",
   "metadata": {},
   "outputs": [
    {
     "data": {
      "text/plain": [
       "[1, 9, 89]"
      ]
     },
     "execution_count": 35,
     "metadata": {},
     "output_type": "execute_result"
    }
   ],
   "source": [
    "#print odd numbers\n",
    "[x for x in l if x%2 != 0]"
   ]
  },
  {
   "cell_type": "code",
   "execution_count": 37,
   "id": "0af1db2c-4781-4d83-bf64-a71b76e54769",
   "metadata": {},
   "outputs": [
    {
     "name": "stdout",
     "output_type": "stream",
     "text": [
      "{'john': [90, 70, 76, 98], 'roy': [89, 67, 90, 87], 'aditya': [90, 98, 67, 87]}\n"
     ]
    }
   ],
   "source": [
    "d1 = {\"john\":[90,70,76,98], \"roy\":[89,67,90,87], \"aditya\":[90,98,67,87]}\n",
    "print(d1)"
   ]
  },
  {
   "cell_type": "code",
   "execution_count": 41,
   "id": "c4c73167-2c54-4d63-9827-75709bd1c455",
   "metadata": {},
   "outputs": [
    {
     "data": {
      "text/plain": [
       "{'john': 83.5, 'roy': 83.25, 'aditya': 85.5}"
      ]
     },
     "execution_count": 41,
     "metadata": {},
     "output_type": "execute_result"
    }
   ],
   "source": [
    "{k:sum(v)/len(v) for k,v in d1.items()}"
   ]
  },
  {
   "cell_type": "markdown",
   "id": "07bc2fc2-1837-4e6c-af89-ddf997739c5a",
   "metadata": {},
   "source": [
    "# functions\n",
    "# write a user defined function to compute average"
   ]
  },
  {
   "cell_type": "code",
   "execution_count": 46,
   "id": "8fcdac22-9864-45e5-a8af-71b4a4d20ca6",
   "metadata": {},
   "outputs": [],
   "source": [
    "def mean_value(given_list):\n",
    "    total = sum(given_list)\n",
    "    average_value = total/len(given_list)\n",
    "    return average_value"
   ]
  },
  {
   "cell_type": "code",
   "execution_count": 50,
   "id": "a2d84cfc-f517-47d7-9a78-07fe93823f66",
   "metadata": {},
   "outputs": [
    {
     "data": {
      "text/plain": [
       "5.5"
      ]
     },
     "execution_count": 50,
     "metadata": {},
     "output_type": "execute_result"
    }
   ],
   "source": [
    "#calling a function\n",
    "l=[1,2,3,4,5,6,7,8,9,10]\n",
    "mean_value(l)"
   ]
  },
  {
   "cell_type": "code",
   "execution_count": 79,
   "id": "16ecfdc6-137d-4c24-b056-92c2574e1368",
   "metadata": {},
   "outputs": [
    {
     "name": "stdout",
     "output_type": "stream",
     "text": [
      "Good Morning, Tharangini!\n"
     ]
    }
   ],
   "source": [
    "#write a user defined funtion to greet with good morning with your name\n",
    "def greet_good_morning():\n",
    "    name = \"Tharangini\"  \n",
    "    print(f\"Good Morning, {name}!\")\n",
    "    "
   ]
  },
  {
   "cell_type": "code",
   "execution_count": 81,
   "id": "fc6b0661-daab-4015-bf73-415e24db482f",
   "metadata": {},
   "outputs": [
    {
     "name": "stdout",
     "output_type": "stream",
     "text": [
      "Good Morning, Tharangini!\n"
     ]
    }
   ],
   "source": [
    "greet_good_morning( )"
   ]
  },
  {
   "cell_type": "code",
   "execution_count": null,
   "id": "4a8cd844-58cd-490f-8faf-190dce561a0f",
   "metadata": {},
   "outputs": [],
   "source": []
  },
  {
   "cell_type": "code",
   "execution_count": null,
   "id": "413f366d-db92-47ee-a569-fd9688183495",
   "metadata": {},
   "outputs": [],
   "source": []
  }
 ],
 "metadata": {
  "kernelspec": {
   "display_name": "Python [conda env:base] *",
   "language": "python",
   "name": "conda-base-py"
  },
  "language_info": {
   "codemirror_mode": {
    "name": "ipython",
    "version": 3
   },
   "file_extension": ".py",
   "mimetype": "text/x-python",
   "name": "python",
   "nbconvert_exporter": "python",
   "pygments_lexer": "ipython3",
   "version": "3.12.7"
  }
 },
 "nbformat": 4,
 "nbformat_minor": 5
}
